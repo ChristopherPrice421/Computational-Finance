{
 "cells": [
  {
   "cell_type": "code",
   "execution_count": null,
   "metadata": {},
   "outputs": [],
   "source": [
    "import numpy as np\n",
    "import matplotlib.pyplot as plt"
   ]
  },
  {
   "cell_type": "code",
   "execution_count": null,
   "metadata": {},
   "outputs": [],
   "source": [
    "def GeneratePathsGBMABM(NoOfPaths,NoOfSteps,T,r,sigma,S_0):    \n",
    "    \n",
    "    # Fixing random seed\n",
    "    np.random.seed(1)\n",
    "        \n",
    "    Z = np.random.normal(0.0,1.0,[NoOfPaths,NoOfSteps])\n",
    "    X = np.zeros([NoOfPaths, NoOfSteps+1])\n",
    "    S = np.zeros([NoOfPaths, NoOfSteps+1])\n",
    "    time = np.zeros([NoOfSteps+1])\n",
    "        \n",
    "    X[:,0] = np.log(S_0)\n",
    "    \n",
    "    dt = T / float(NoOfSteps)\n",
    "    for i in range(0,NoOfSteps):\n",
    "        # making sure that samples from normal have mean 0 and variance 1\n",
    "        if NoOfPaths > 1:\n",
    "            Z[:,i] = (Z[:,i] - np.mean(Z[:,i])) / np.std(Z[:,i])\n",
    "            \n",
    "        X[:,i+1] = X[:,i] + (r - 0.5 * sigma **2 ) * dt + sigma * np.power(dt, 0.5)*Z[:,i]\n",
    "        time[i+1] = time[i] +dt\n",
    "        \n",
    "    #Compute exponent of ABM\n",
    "    S = np.exp(X)\n",
    "    paths = {\"time\":time,\"X\":X,\"S\":S}\n",
    "    return paths"
   ]
  },
  {
   "cell_type": "code",
   "execution_count": null,
   "metadata": {},
   "outputs": [],
   "source": [
    "def mainCalculation():\n",
    "    NoOfPaths = 100000\n",
    "    NoOfSteps = 500\n",
    "\n",
    "    T = 1\n",
    "    r = 0.05\n",
    "    sigma = 0.4\n",
    "    S_0 = 100\n",
    "    \n",
    "    M = lambda r,t: np.exp(r*t)\n",
    "    \n",
    "    Paths = GeneratePathsGBMABM(NoOfPaths,NoOfSteps,T,r,sigma,S_0)\n",
    "    timeGrid = Paths[\"time\"]\n",
    "    X = Paths[\"X\"]\n",
    "    S = Paths[\"S\"]\n",
    "    \n",
    "    #plt.figure(1)\n",
    "    #plt.plot(timeGrid, np.transpose(X))   \n",
    "    #plt.grid()\n",
    "    #plt.xlabel(\"time\")\n",
    "    #plt.ylabel(\"X(t)\")\n",
    "    \n",
    "    #plt.figure(2)\n",
    "    #plt.plot(timeGrid, np.transpose(S))   \n",
    "    #plt.grid()\n",
    "    #plt.xlabel(\"time\")\n",
    "    #plt.ylabel(\"S(t)\")\n",
    "    \n",
    "    # checking martingale property\n",
    "    ES = np.mean(S[:,-1])\n",
    "    print(ES)\n",
    "    \n",
    "    ESM = np.mean(S[:,-1]/M(r,T))\n",
    "    print(ESM)"
   ]
  }
 ],
 "metadata": {
  "language_info": {
   "name": "python"
  },
  "orig_nbformat": 4
 },
 "nbformat": 4,
 "nbformat_minor": 2
}
