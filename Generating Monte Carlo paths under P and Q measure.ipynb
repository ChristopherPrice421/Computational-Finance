{
 "cells": [
  {
   "cell_type": "code",
   "execution_count": 1,
   "metadata": {},
   "outputs": [],
   "source": [
    "import numpy as np\n",
    "import matplotlib.pyplot as plt"
   ]
  },
  {
   "cell_type": "code",
   "execution_count": null,
   "metadata": {},
   "outputs": [],
   "source": [
    "def GeneratePathsGBM(NoOfPaths,NoOfSteps,T,r,sigma,S_0):    \n",
    "    Z = np.random.normal(0.0,1.0,[NoOfPaths,NoOfSteps])\n",
    "    X = np.zeros([NoOfPaths, NoOfSteps+1])\n",
    "    S = np.zeros([NoOfPaths, NoOfSteps+1])\n",
    "    time = np.zeros([NoOfSteps+1])\n",
    "        \n",
    "    X[:,0] = np.log(S_0)\n",
    "    \n",
    "    dt = T / float(NoOfSteps)\n",
    "    for i in range(0,NoOfSteps):\n",
    "        # making sure that samples from normal have mean 0 and variance 1\n",
    "        if NoOfPaths > 1:\n",
    "            Z[:,i] = (Z[:,i] - np.mean(Z[:,i])) / np.std(Z[:,i])\n",
    "     \n",
    "        X[:,i+1] = X[:,i] + (r - 0.5 * sigma * sigma) * dt + sigma *\\\n",
    "        np.power(dt, 0.5)*Z[:,i]\n",
    "        time[i+1] = time[i] +dt\n",
    "        \n",
    "    #Compute exponent of ABM\n",
    "    S = np.exp(X)\n",
    "    paths = {\"time\":time,\"S\":S}\n",
    "    return paths"
   ]
  },
  {
   "cell_type": "code",
   "execution_count": null,
   "metadata": {},
   "outputs": [],
   "source": [
    "def MainCode():\n",
    "    NoOfPaths = 8\n",
    "    NoOfSteps = 1000\n",
    "    S_0       = 1\n",
    "    r         = 0.05\n",
    "    mu        = 0.15\n",
    "    sigma     = 0.1\n",
    "    T         = 10\n",
    "    # Money savings account\n",
    "    M         = lambda t: np.exp(r * t)\n",
    "    \n",
    "    # Monte Carlo Paths\n",
    "\n",
    "    pathsQ    = GeneratePathsGBM(NoOfPaths,NoOfSteps,T,r,sigma,S_0)\n",
    "    S_Q       = pathsQ[\"S\"]\n",
    "    pathsP = GeneratePathsGBM(NoOfPaths,NoOfSteps,T,mu,sigma,S_0)\n",
    "    S_P = pathsP[\"S\"]\n",
    "    time= pathsQ[\"time\"]    \n",
    "    \n",
    "    # Discounted Stock paths\n",
    "    S_Qdisc = np.zeros([NoOfPaths,NoOfSteps+1])\n",
    "    S_Pdisc = np.zeros([NoOfPaths,NoOfSteps+1])\n",
    "    i = 0\n",
    "    for i, ti in enumerate(time):\n",
    "        S_Qdisc[:, i] = S_Q[:,i]/M(ti) \n",
    "        S_Pdisc[:, i] = S_P[:,i]/M(ti) \n",
    "    \n",
    "    # S(T)/M(T) with Stock growing with rate r\n",
    "    plt.figure(1)\n",
    "    plt.grid()\n",
    "    plt.xlabel(\"time\")\n",
    "    plt.ylabel(\"S(t)\")\n",
    "    eSM_Q = lambda t: S_0 * np.exp(r *t) / M(t)\n",
    "    plt.plot(time,eSM_Q(time),'r--')\n",
    "    plt.plot(time, np.transpose(S_Qdisc),'blue')   \n",
    "    plt.legend(['E^Q[S(t)/M(t)]','paths S(t)/M(t)'])\n",
    "    \n",
    "    # S(T)/M(T) with Stock growing with rate mu\n",
    "    plt.figure(2)\n",
    "    plt.grid()\n",
    "    plt.xlabel(\"time\")\n",
    "    plt.ylabel(\"S(t)\")\n",
    "    eSM_P = lambda t: S_0 * np.exp(mu *t) / M(t)\n",
    "    plt.plot(time,eSM_P(time),'r--')\n",
    "    plt.plot(time, np.transpose(S_Pdisc),'blue')   \n",
    "    plt.legend(['E^P[S(t)/M(t)]','paths S(t)/M(t)'])\n",
    "    \n",
    "MainCode()"
   ]
  }
 ],
 "metadata": {
  "kernelspec": {
   "display_name": "base",
   "language": "python",
   "name": "python3"
  },
  "language_info": {
   "codemirror_mode": {
    "name": "ipython",
    "version": 3
   },
   "file_extension": ".py",
   "mimetype": "text/x-python",
   "name": "python",
   "nbconvert_exporter": "python",
   "pygments_lexer": "ipython3",
   "version": "3.9.13"
  },
  "orig_nbformat": 4,
  "vscode": {
   "interpreter": {
    "hash": "d13b0f76023f7cd5d7aab12d12aa78edb0e6c493de1abf71a31e5d3f3c325350"
   }
  }
 },
 "nbformat": 4,
 "nbformat_minor": 2
}
