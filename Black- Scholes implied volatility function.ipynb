{
 "cells": [
  {
   "cell_type": "code",
   "execution_count": 1,
   "metadata": {},
   "outputs": [],
   "source": [
    "import numpy as np\n",
    "import scipy.stats as st"
   ]
  },
  {
   "cell_type": "code",
   "execution_count": null,
   "metadata": {},
   "outputs": [],
   "source": [
    "# Initial parameters and market quotes\n",
    "V_market = 2    # market call option price\n",
    "K        = 120  # strike\n",
    "tau      = 1    # time-to-maturity\n",
    "r        = 0.05 # interest rate\n",
    "S_0      = 100  # today's stock price\n",
    "sigmaInit    = 0.25  # Initial implied volatility\n",
    "CP       =\"c\" #C is call and P is put"
   ]
  },
  {
   "cell_type": "code",
   "execution_count": null,
   "metadata": {},
   "outputs": [],
   "source": [
    "def ImpliedVolatility(CP,S_0,K,sigma,tau,r):\n",
    "    error    = 1e10; # initial error\n",
    "    #Handy lambda expressions\n",
    "    optPrice = lambda sigma: BS_Call_Option_Price(CP,S_0,K,sigma,tau,r)\n",
    "    vega= lambda sigma: dV_dsigma(S_0,K,sigma,tau,r)\n",
    "    \n",
    "    # While the difference between the model and the arket price is large\n",
    "    # follow the iteration\n",
    "    n = 1.0 \n",
    "    while error>10e-10:\n",
    "        g         = optPrice(sigma) - V_market\n",
    "        g_prim    = vega(sigma)\n",
    "        sigma_new = sigma - g / g_prim\n",
    "    \n",
    "        #error=abs(sigma_new-sigma)\n",
    "        error=abs(g)\n",
    "        sigma=sigma_new;\n",
    "        \n",
    "        print('iteration {0} with error = {1}'.format(n,error))\n",
    "        \n",
    "        n= n+1\n",
    "    return sigma"
   ]
  },
  {
   "cell_type": "code",
   "execution_count": null,
   "metadata": {},
   "outputs": [],
   "source": [
    "# Vega, dV/dsigma\n",
    "def dV_dsigma(S_0,K,sigma,tau,r):\n",
    "    #parameters and value of Vega\n",
    "    d2   = (np.log(S_0 / float(K)) + (r - 0.5 * np.power(sigma,2.0)) * tau) / float(sigma * np.sqrt(tau))\n",
    "    value = K * np.exp(-r * tau) * st.norm.pdf(d2) * np.sqrt(tau)\n",
    "    return value\n"
   ]
  },
  {
   "cell_type": "code",
   "execution_count": null,
   "metadata": {},
   "outputs": [],
   "source": [
    "def BS_Call_Option_Price(CP,S_0,K,sigma,tau,r):\n",
    "    #Black-Scholes Call option price\n",
    "    d1    = (np.log(S_0 / float(K)) + (r + 0.5 * np.power(sigma,2.0)) * tau) / float(sigma * np.sqrt(tau))\n",
    "    d2    = d1 - sigma * np.sqrt(tau)\n",
    "    if str(CP).lower()==\"c\" or str(CP).lower()==\"1\":\n",
    "        value = st.norm.cdf(d1) * S_0 - st.norm.cdf(d2) * K * np.exp(-r * tau)\n",
    "    elif str(CP).lower()==\"p\" or str(CP).lower()==\"-1\":\n",
    "        value = st.norm.cdf(-d2) * K * np.exp(-r * tau) - st.norm.cdf(-d1)*S_0\n",
    "    return value"
   ]
  },
  {
   "cell_type": "code",
   "execution_count": null,
   "metadata": {},
   "outputs": [],
   "source": [
    "sigma_imp = ImpliedVolatility(CP,S_0,K,sigmaInit,tau,r)\n",
    "message = '''Implied volatility for CallPrice= {}, strike K={}, \n",
    "      maturity T= {}, interest rate r= {} and initial stock S_0={} \n",
    "      equals to sigma_imp = {:.7f}'''.format(V_market,K,tau,r,S_0,sigma_imp)\n",
    "            \n",
    "print(message)\n",
    "\n",
    "# Check! \n",
    "val = BS_Call_Option_Price(CP,S_0,K,sigma_imp,tau,r)\n",
    "print('Option Price for implied volatility of {0} is equal to {1}'.format(sigma_imp, val))"
   ]
  }
 ],
 "metadata": {
  "kernelspec": {
   "display_name": "base",
   "language": "python",
   "name": "python3"
  },
  "language_info": {
   "codemirror_mode": {
    "name": "ipython",
    "version": 3
   },
   "file_extension": ".py",
   "mimetype": "text/x-python",
   "name": "python",
   "nbconvert_exporter": "python",
   "pygments_lexer": "ipython3",
   "version": "3.9.13"
  },
  "orig_nbformat": 4,
  "vscode": {
   "interpreter": {
    "hash": "d13b0f76023f7cd5d7aab12d12aa78edb0e6c493de1abf71a31e5d3f3c325350"
   }
  }
 },
 "nbformat": 4,
 "nbformat_minor": 2
}
